{
 "cells": [
  {
   "cell_type": "code",
   "execution_count": 2,
   "id": "fd746449",
   "metadata": {},
   "outputs": [],
   "source": [
    "import pandas as pd\n",
    "import numpy as np\n",
    "from sklearn import preprocessing\n"
   ]
  },
  {
   "cell_type": "code",
   "execution_count": 4,
   "id": "1adc5198",
   "metadata": {},
   "outputs": [],
   "source": [
    "data = pd.read_csv(\"Data_for_Missing_Values.csv\")"
   ]
  },
  {
   "cell_type": "code",
   "execution_count": 6,
   "id": "15939fb6",
   "metadata": {
    "scrolled": true
   },
   "outputs": [
    {
     "data": {
      "text/html": [
       "<div>\n",
       "<style scoped>\n",
       "    .dataframe tbody tr th:only-of-type {\n",
       "        vertical-align: middle;\n",
       "    }\n",
       "\n",
       "    .dataframe tbody tr th {\n",
       "        vertical-align: top;\n",
       "    }\n",
       "\n",
       "    .dataframe thead th {\n",
       "        text-align: right;\n",
       "    }\n",
       "</style>\n",
       "<table border=\"1\" class=\"dataframe\">\n",
       "  <thead>\n",
       "    <tr style=\"text-align: right;\">\n",
       "      <th></th>\n",
       "      <th>Country</th>\n",
       "      <th>Age</th>\n",
       "      <th>Salary</th>\n",
       "      <th>Purchased</th>\n",
       "    </tr>\n",
       "  </thead>\n",
       "  <tbody>\n",
       "    <tr>\n",
       "      <th>0</th>\n",
       "      <td>France</td>\n",
       "      <td>44.0</td>\n",
       "      <td>72000.0</td>\n",
       "      <td>No</td>\n",
       "    </tr>\n",
       "    <tr>\n",
       "      <th>1</th>\n",
       "      <td>Spain</td>\n",
       "      <td>27.0</td>\n",
       "      <td>48000.0</td>\n",
       "      <td>Yes</td>\n",
       "    </tr>\n",
       "    <tr>\n",
       "      <th>2</th>\n",
       "      <td>Germany</td>\n",
       "      <td>30.0</td>\n",
       "      <td>54000.0</td>\n",
       "      <td>No</td>\n",
       "    </tr>\n",
       "    <tr>\n",
       "      <th>3</th>\n",
       "      <td>Spain</td>\n",
       "      <td>38.0</td>\n",
       "      <td>61000.0</td>\n",
       "      <td>No</td>\n",
       "    </tr>\n",
       "    <tr>\n",
       "      <th>4</th>\n",
       "      <td>Germany</td>\n",
       "      <td>40.0</td>\n",
       "      <td>NaN</td>\n",
       "      <td>Yes</td>\n",
       "    </tr>\n",
       "  </tbody>\n",
       "</table>\n",
       "</div>"
      ],
      "text/plain": [
       "   Country   Age   Salary Purchased\n",
       "0   France  44.0  72000.0        No\n",
       "1    Spain  27.0  48000.0       Yes\n",
       "2  Germany  30.0  54000.0        No\n",
       "3    Spain  38.0  61000.0        No\n",
       "4  Germany  40.0      NaN       Yes"
      ]
     },
     "execution_count": 6,
     "metadata": {},
     "output_type": "execute_result"
    }
   ],
   "source": [
    "data.head(5)"
   ]
  },
  {
   "cell_type": "code",
   "execution_count": 7,
   "id": "b5a7f971",
   "metadata": {},
   "outputs": [],
   "source": [
    "#get two cloum age and salary\n",
    "data_new = data.iloc[:,1:3].values"
   ]
  },
  {
   "cell_type": "code",
   "execution_count": 10,
   "id": "6d1e762d",
   "metadata": {},
   "outputs": [
    {
     "data": {
      "text/html": [
       "<div>\n",
       "<style scoped>\n",
       "    .dataframe tbody tr th:only-of-type {\n",
       "        vertical-align: middle;\n",
       "    }\n",
       "\n",
       "    .dataframe tbody tr th {\n",
       "        vertical-align: top;\n",
       "    }\n",
       "\n",
       "    .dataframe thead th {\n",
       "        text-align: right;\n",
       "    }\n",
       "</style>\n",
       "<table border=\"1\" class=\"dataframe\">\n",
       "  <thead>\n",
       "    <tr style=\"text-align: right;\">\n",
       "      <th></th>\n",
       "      <th>Age</th>\n",
       "      <th>Salary</th>\n",
       "    </tr>\n",
       "  </thead>\n",
       "  <tbody>\n",
       "    <tr>\n",
       "      <th>count</th>\n",
       "      <td>18.000000</td>\n",
       "      <td>18.000000</td>\n",
       "    </tr>\n",
       "    <tr>\n",
       "      <th>mean</th>\n",
       "      <td>41.444444</td>\n",
       "      <td>50362.222222</td>\n",
       "    </tr>\n",
       "    <tr>\n",
       "      <th>std</th>\n",
       "      <td>12.793483</td>\n",
       "      <td>22371.537473</td>\n",
       "    </tr>\n",
       "    <tr>\n",
       "      <th>min</th>\n",
       "      <td>12.000000</td>\n",
       "      <td>12000.000000</td>\n",
       "    </tr>\n",
       "    <tr>\n",
       "      <th>25%</th>\n",
       "      <td>35.500000</td>\n",
       "      <td>42975.000000</td>\n",
       "    </tr>\n",
       "    <tr>\n",
       "      <th>50%</th>\n",
       "      <td>42.500000</td>\n",
       "      <td>55000.000000</td>\n",
       "    </tr>\n",
       "    <tr>\n",
       "      <th>75%</th>\n",
       "      <td>52.250000</td>\n",
       "      <td>62500.000000</td>\n",
       "    </tr>\n",
       "    <tr>\n",
       "      <th>max</th>\n",
       "      <td>58.000000</td>\n",
       "      <td>83000.000000</td>\n",
       "    </tr>\n",
       "  </tbody>\n",
       "</table>\n",
       "</div>"
      ],
      "text/plain": [
       "             Age        Salary\n",
       "count  18.000000     18.000000\n",
       "mean   41.444444  50362.222222\n",
       "std    12.793483  22371.537473\n",
       "min    12.000000  12000.000000\n",
       "25%    35.500000  42975.000000\n",
       "50%    42.500000  55000.000000\n",
       "75%    52.250000  62500.000000\n",
       "max    58.000000  83000.000000"
      ]
     },
     "execution_count": 10,
     "metadata": {},
     "output_type": "execute_result"
    }
   ],
   "source": [
    "data.describe()"
   ]
  },
  {
   "cell_type": "markdown",
   "id": "056bf083",
   "metadata": {},
   "source": [
    "Min-Max Normalization\n",
    "\n",
    "X(new) = ((X(i)-min(X))/(max(X)-min(X)))"
   ]
  },
  {
   "cell_type": "code",
   "execution_count": 8,
   "id": "0fa1cb83",
   "metadata": {},
   "outputs": [
    {
     "name": "stdout",
     "output_type": "stream",
     "text": [
      "[[0.69565217 0.84507042]\n",
      " [0.32608696 0.50704225]\n",
      " [0.39130435 0.5915493 ]\n",
      " [0.56521739 0.69014085]\n",
      " [0.60869565        nan]\n",
      " [0.5        0.64788732]\n",
      " [       nan 0.56338028]\n",
      " [0.7826087  0.94366197]\n",
      " [0.82608696 1.        ]\n",
      " [0.54347826 0.        ]\n",
      " [0.2173913  0.15492958]\n",
      " [0.95652174 0.46478873]\n",
      " [0.93478261 0.00309859]\n",
      " [0.7173913  0.67605634]\n",
      " [0.63043478 0.61971831]\n",
      " [0.         0.71830986]\n",
      " [0.93478261 0.01408451]\n",
      " [1.         0.42676056]\n",
      " [0.89130435 0.85915493]]\n"
     ]
    }
   ],
   "source": [
    "minMaxScaler = preprocessing.MinMaxScaler(feature_range=(0,1))\n",
    "print(minMaxScaler.fit_transform(data_new))"
   ]
  },
  {
   "cell_type": "markdown",
   "id": "743525ce",
   "metadata": {},
   "source": [
    "Standardization \n",
    "X(new) = (X(i) - min(mean)) / (Standart Deviation))"
   ]
  },
  {
   "cell_type": "code",
   "execution_count": 9,
   "id": "be7fac79",
   "metadata": {},
   "outputs": [
    {
     "name": "stdout",
     "output_type": "stream",
     "text": [
      "[[ 0.20554567  0.99524182]\n",
      " [-1.16177986 -0.10865175]\n",
      " [-0.92048712  0.16732165]\n",
      " [-0.27703981  0.4892906 ]\n",
      " [-0.11617799         nan]\n",
      " [-0.51833255  0.35130391]\n",
      " [        nan  0.07533051]\n",
      " [ 0.52726932  1.31721078]\n",
      " [ 0.68813115  1.50119304]\n",
      " [-0.35747073 -1.76449209]\n",
      " [-1.56393443 -1.25854088]\n",
      " [ 1.17071663 -0.24663844]\n",
      " [ 1.09028572 -1.75437307]\n",
      " [ 0.28597658  0.44329504]\n",
      " [-0.03574707  0.25931278]\n",
      " [-2.36824357  0.58128173]\n",
      " [ 1.09028572 -1.71849653]\n",
      " [ 1.33157846 -0.37082647]\n",
      " [ 0.92942389  1.04123738]]\n"
     ]
    }
   ],
   "source": [
    "Standardisation = preprocessing.StandardScaler()\n",
    "print(Standardisation.fit_transform(data_new))"
   ]
  }
 ],
 "metadata": {
  "kernelspec": {
   "display_name": "Python 3",
   "language": "python",
   "name": "python3"
  },
  "language_info": {
   "codemirror_mode": {
    "name": "ipython",
    "version": 3
   },
   "file_extension": ".py",
   "mimetype": "text/x-python",
   "name": "python",
   "nbconvert_exporter": "python",
   "pygments_lexer": "ipython3",
   "version": "3.8.10"
  }
 },
 "nbformat": 4,
 "nbformat_minor": 5
}
